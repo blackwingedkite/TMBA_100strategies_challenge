{
 "cells": [
  {
   "cell_type": "code",
   "execution_count": 2,
   "id": "8a7dd667-a723-499a-9abb-66d677e82525",
   "metadata": {},
   "outputs": [],
   "source": [
    "import os\n",
    "import numpy as np\n",
    "import pandas as pd\n",
    "import seaborn as sns\n",
    "import matplotlib.pyplot as plt\n",
    "import requests\n",
    "import datetime as dt\n",
    "import time\n",
    "rule = '3T'\n",
    "plt.style.use('ggplot')\n",
    "pd.set_option('display.max_rows', None)\n",
    "\n",
    "df = pd.read_csv('TWF_Futures_Minute_Trade.txt')\n",
    "df.index = pd.to_datetime(df['Date'] + ' ' + df['Time'])\n",
    "df['Hour'] = df.index.map(lambda x: x.hour)\n",
    "df.columns = ['date', 'time', 'open', 'high', 'low','close','volume','hour']\n",
    "Morning = df[(df['hour'] >= 8) & (df['hour'] <= 13)]\n",
    "Morning.index += dt.timedelta(minutes=15) # 往前調整15mins\n",
    "Morning.resample(rule=rule, closed='right', label='right').first()[['open']].iloc[0:3]\n",
    "\n",
    "rule = '60T'\n",
    "Morning = df[(df['hour'] >= 8) & (df['hour'] <= 13)]\n",
    "Morning.index = Morning.index + dt.timedelta(minutes=15)\n",
    "d1 = Morning.resample(rule=rule, closed='right', label='left').first()[['open']]\n",
    "d2 = Morning.resample(rule=rule, closed='right', label='left').max()[['high']]\n",
    "d3 = Morning.resample(rule=rule, closed='right', label='left').min()[['low']]\n",
    "d4 = Morning.resample(rule=rule, closed='right', label='left').last()[['close']]\n",
    "d5 = Morning.resample(rule=rule, closed='right', label='left').sum()[['volume']]\n",
    "df_Morning = pd.concat([d1,d2,d3,d4,d5], axis=1)\n",
    "df_Morning = df_Morning.dropna()\n",
    "df_Morning.index = df_Morning.index - dt.timedelta(minutes=15)\n",
    "\n",
    "Night = df[(df['hour'] < 8) | (df['hour'] > 13)]\n",
    "d1 = Night.resample(rule=rule, closed='right', label='left').first()[['open']]\n",
    "d2 = Night.resample(rule=rule, closed='right', label='left').max()[['high']]\n",
    "d3 = Night.resample(rule=rule, closed='right', label='left').min()[['low']]\n",
    "d4 = Night.resample(rule=rule, closed='right', label='left').last()[['close']]\n",
    "d5 = Night.resample(rule=rule, closed='right', label='left').sum()[['volume']]\n",
    "df_Night = pd.concat([d1,d2,d3,d4,d5], axis=1)\n",
    "df_Night = df_Night.dropna()\n",
    "\n",
    "df_Day = pd.concat([df_Morning, df_Night], axis=0) #先日再夜\n",
    "df_Day = df_Day.sort_index(ascending=True) #按照時間\n",
    "df_Morning['Hour'] = df_Morning.index.map(lambda x: x.hour)\n",
    "trainData = df_Morning[(df_Morning.index >= '2011-01-01 00:00:00') & (df_Morning.index <= '2018-12-31 00:00:00')].copy()\n",
    "testData = df_Morning[(df_Morning.index >= '2019-1-1 00:00:00')].copy()\n",
    "settlementDate_ = pd.read_csv('settlementDate.csv') #, encoding = 'ANSI'\n",
    "settlementDate_.columns = ['settlementDate', 'futures', 'settlementPrice']\n",
    "bool_ = [False if 'W' in i else True for i in settlementDate_['futures']] # if第三周->true, else: false\n",
    "settlementDate = [pd.to_datetime(i).date() for i in list(settlementDate_[bool_]['settlementDate'])] #擷取第三個禮拜的日期資料\n"
   ]
  },
  {
   "cell_type": "code",
   "execution_count": null,
   "id": "15ee2aee-a5c8-4111-b57c-3c8bea8f874e",
   "metadata": {},
   "outputs": [],
   "source": [
    "\n",
    "fund = 1000000\n",
    "FEE = 600\n",
    "LENGTH = 20\n",
    "NUMSTD = 1.53\n",
    "Kup = 0.04\n",
    "Kdown= 0.04\n",
    "trainData['MA'] = trainData['close'].rolling(window=LENGTH, center=False).mean()\n",
    "trainData['STD'] = trainData['close'].rolling(window=LENGTH, center=False).std()\n",
    "trainData['upLine'] = trainData['MA'] + NUMSTD*trainData['STD'] #布林通道上軌\n",
    "trainData['downLine'] = trainData['MA'] - NUMSTD*trainData['STD'] #布林通道下軌"
   ]
  }
 ],
 "metadata": {
  "kernelspec": {
   "display_name": "Python 3 (ipykernel)",
   "language": "python",
   "name": "python3"
  },
  "language_info": {
   "codemirror_mode": {
    "name": "ipython",
    "version": 3
   },
   "file_extension": ".py",
   "mimetype": "text/x-python",
   "name": "python",
   "nbconvert_exporter": "python",
   "pygments_lexer": "ipython3",
   "version": "3.9.12"
  }
 },
 "nbformat": 4,
 "nbformat_minor": 5
}
